{
 "cells": [
  {
   "cell_type": "markdown",
   "metadata": {},
   "source": [
    "### All imports in one place"
   ]
  },
  {
   "cell_type": "code",
   "execution_count": 1,
   "metadata": {},
   "outputs": [],
   "source": [
    "import pickle \n",
    "import warnings\n",
    "import numpy as np\n",
    "import pandas as pd\n",
    "\n",
    "from sklearn.preprocessing import StandardScaler\n",
    "from sklearn.model_selection import train_test_split\n",
    "\n",
    "from sklearn.svm import SVC\n",
    "from sklearn.tree import DecisionTreeClassifier\n",
    "from sklearn.neighbors import KNeighborsClassifier\n",
    "from sklearn.ensemble import RandomForestClassifier\n",
    "from sklearn.linear_model import LogisticRegression"
   ]
  },
  {
   "cell_type": "markdown",
   "metadata": {},
   "source": [
    "### Ignoring warnings"
   ]
  },
  {
   "cell_type": "code",
   "execution_count": 3,
   "metadata": {},
   "outputs": [],
   "source": [
    "warnings.filterwarnings('ignore')"
   ]
  },
  {
   "cell_type": "code",
   "execution_count": null,
   "metadata": {},
   "outputs": [],
   "source": []
  },
  {
   "cell_type": "markdown",
   "metadata": {},
   "source": [
    "### Loading dataset and labels"
   ]
  },
  {
   "cell_type": "code",
   "execution_count": 2,
   "metadata": {},
   "outputs": [
    {
     "data": {
      "text/plain": [
       "CGPA\n",
       "0       4\n",
       "5       6\n",
       "6      71\n",
       "7     138\n",
       "8     142\n",
       "9     132\n",
       "10     23\n",
       "dtype: int64"
      ]
     },
     "execution_count": 2,
     "metadata": {},
     "output_type": "execute_result"
    }
   ],
   "source": [
    "dataset = pd.read_csv('./dataset.csv') \n",
    "# dataset.groupby(['Role']).size()\n",
    "role = dataset['Role'] #except \"Role\" everything we r considering as dataset\n",
    "data = { 'Role': role } \n",
    "labels = pd.DataFrame(data)\n",
    "dataset.drop('Role', axis=1, inplace=True)# dropping \"Role\" col and as inplace=True, therefore it is not returning anything\n",
    "\n",
    "dataset.groupby(['CGPA']).size()"
   ]
  },
  {
   "cell_type": "markdown",
   "metadata": {},
   "source": [
    "### Pre-processing 1"
   ]
  },
  {
   "cell_type": "code",
   "execution_count": 4,
   "metadata": {},
   "outputs": [],
   "source": [
    "# label encoding : all cateogrical(string type values)/numerical values into numbers\n",
    "\n",
    "dataset = dataset.replace(['yes'], 1) # replacing values in cells to numbers \n",
    "dataset = dataset.replace(['no'], 0)\n",
    "dataset = dataset.replace(['excellent'], 2)\n",
    "dataset = dataset.replace(['medium'], 1)\n",
    "dataset = dataset.replace(['poor'], 0)\n",
    "\n",
    "dataset['CGPA'] = dataset['CGPA'].fillna(0)\n",
    "dataset['Did you do webdev during college time ?'] = dataset['Did you do webdev during college time ?'].fillna(0)\n",
    "dataset['Are you good at Data analysis ?'] = dataset['Are you good at Data analysis ?'].fillna(0)\n",
    "dataset['reading and writing skills'] = dataset['reading and writing skills'].fillna(0)\n",
    "dataset['Are you a tech person ?'] = dataset['Are you a tech person ?'].fillna(0)\n",
    "dataset['Were you in a non tech society ?'] = dataset['Were you in a non tech society ?'].fillna(0)\n",
    "dataset['Are you good at coding ?'] = dataset['Are you good at coding ?'].fillna(0)\n",
    "dataset['Have you developed mobile apps ?'] = dataset['Have you developed mobile apps ?'].fillna(0)\n",
    "dataset['Are you good at communication ?'] = dataset['Are you good at communication ?'].fillna(0)\n",
    "dataset['Do you have specialization in security'] = dataset['Do you have specialization in security'].fillna(0)\n",
    "dataset['Have you ever handled large databases ?'] = dataset['Have you ever handled large databases ?'].fillna(0)\n",
    "dataset['Do you have knowlege of statistics and data science?'] = dataset['Do you have knowlege of statistics and data science?'].fillna(0)\n",
    "dataset['Are you proficient in English ?'] = dataset['Are you proficient in English ?'].fillna(0)\n",
    "dataset['Have you ever managed some event?'] = dataset['Have you ever managed some event?'].fillna(0)\n",
    "dataset['Do you write technical blogs ?'] = dataset['Do you write technical blogs ?'].fillna(0)\n",
    "dataset['Are you into marketing ?'] = dataset['Are you into marketing ?'].fillna(0)\n",
    "dataset['Are you a ML expert ?'] = dataset['Are you a ML expert ?'].fillna(0)\n",
    "dataset['Do you have a lot of connections ?'] = dataset['Do you have a lot of connections ?'].fillna(0)\n",
    "dataset['Have you ever built live project ?'] = dataset['Have you ever built live project ?'].fillna(0)"
   ]
  },
  {
   "cell_type": "code",
   "execution_count": 5,
   "metadata": {},
   "outputs": [],
   "source": [
    "dataset['CGPA'] = dataset['CGPA'].replace(to_replace=0,value = 7)"
   ]
  },
  {
   "cell_type": "markdown",
   "metadata": {},
   "source": [
    "### Pre-processsing 2"
   ]
  },
  {
   "cell_type": "code",
   "execution_count": 6,
   "metadata": {},
   "outputs": [
    {
     "name": "stdout",
     "output_type": "stream",
     "text": [
      "         CGPA\n",
      "0   -0.664609\n",
      "1    0.210234\n",
      "2    0.210234\n",
      "3   -1.539452\n",
      "4   -0.664609\n",
      "..        ...\n",
      "511  0.210234\n",
      "512  1.085076\n",
      "513  1.959919\n",
      "514  0.210234\n",
      "515  1.085076\n",
      "\n",
      "[516 rows x 1 columns]\n"
     ]
    }
   ],
   "source": [
    "standardScaler = StandardScaler()# label encoding: as gpa cannot be classified/encoded as other values..so we use Standardisation which converts all data points in such a way that mean=0 and varience=1\n",
    "columns_to_scale = ['CGPA']\n",
    "dataset[columns_to_scale] = standardScaler.fit_transform(dataset[columns_to_scale])\n",
    "print(dataset[columns_to_scale])\n",
    "\n",
    "# standardisatin : mean=0 var=1\n",
    "# normalisation : scaling datapoints in the range of 0to1 or -1to1\n",
    "# we use sigmoid func for 0 to 1 and tanh func for -1 to 1"
   ]
  },
  {
   "cell_type": "markdown",
   "metadata": {},
   "source": [
    "### Creating the training datasets"
   ]
  },
  {
   "cell_type": "code",
   "execution_count": 7,
   "metadata": {},
   "outputs": [],
   "source": [
    "x_train, y_train = dataset, labels #dataset=input and labels=op(Supervised Learning)"
   ]
  },
  {
   "cell_type": "markdown",
   "metadata": {},
   "source": [
    "### K-Nearest Neighbors Classifier with K = 20"
   ]
  },
  {
   "cell_type": "code",
   "execution_count": 8,
   "metadata": {},
   "outputs": [
    {
     "name": "stderr",
     "output_type": "stream",
     "text": [
      "c:\\Python 3.10.2\\lib\\site-packages\\sklearn\\neighbors\\_classification.py:198: DataConversionWarning: A column-vector y was passed when a 1d array was expected. Please change the shape of y to (n_samples,), for example using ravel().\n",
      "  return self._fit(X, y)\n"
     ]
    }
   ],
   "source": [
    "model = KNeighborsClassifier(n_neighbors=20)\n",
    "model.fit(x_train, y_train)\n",
    "file = './Models/knn_classifier.sav'\n",
    "with open(file, 'wb') as f:\n",
    "    pickle.dump(model, f)"
   ]
  },
  {
   "cell_type": "markdown",
   "metadata": {},
   "source": [
    "### Decision Tree Classifier with as many features as columns"
   ]
  },
  {
   "cell_type": "code",
   "execution_count": 23,
   "metadata": {},
   "outputs": [],
   "source": [
    "model1 = DecisionTreeClassifier(max_features=len(dataset.columns), random_state=0)\n",
    "model1.fit(x_train, y_train)\n",
    "file = './Models/dt_classifier.sav'\n",
    "with open(file, 'wb') as f:\n",
    "    pickle.dump(model1, f)"
   ]
  },
  {
   "cell_type": "markdown",
   "metadata": {},
   "source": [
    "### Support Vector Classifier with a linear kernel"
   ]
  },
  {
   "cell_type": "code",
   "execution_count": 24,
   "metadata": {},
   "outputs": [
    {
     "name": "stderr",
     "output_type": "stream",
     "text": [
      "c:\\Python 3.10.2\\lib\\site-packages\\sklearn\\utils\\validation.py:993: DataConversionWarning: A column-vector y was passed when a 1d array was expected. Please change the shape of y to (n_samples, ), for example using ravel().\n",
      "  y = column_or_1d(y, warn=True)\n"
     ]
    }
   ],
   "source": [
    "model2 = SVC(kernel='linear')\n",
    "model2.fit(x_train, y_train)\n",
    "file = './Models/svc_classifier.sav'\n",
    "with open(file, 'wb') as f:\n",
    "    pickle.dump(model2, f)"
   ]
  },
  {
   "cell_type": "markdown",
   "metadata": {},
   "source": [
    "### Logistic Regression classifier"
   ]
  },
  {
   "cell_type": "code",
   "execution_count": 25,
   "metadata": {},
   "outputs": [
    {
     "name": "stderr",
     "output_type": "stream",
     "text": [
      "c:\\Python 3.10.2\\lib\\site-packages\\sklearn\\utils\\validation.py:993: DataConversionWarning: A column-vector y was passed when a 1d array was expected. Please change the shape of y to (n_samples, ), for example using ravel().\n",
      "  y = column_or_1d(y, warn=True)\n"
     ]
    }
   ],
   "source": [
    "model3 = LogisticRegression()\n",
    "model3.fit(x_train, y_train)\n",
    "file = './Models/lg_classifier.sav'\n",
    "with open(file, 'wb') as f:\n",
    "    pickle.dump(model, f)"
   ]
  },
  {
   "cell_type": "markdown",
   "metadata": {},
   "source": [
    "### Random Forest Classifier with 1000 estimators"
   ]
  },
  {
   "cell_type": "code",
   "execution_count": 26,
   "metadata": {},
   "outputs": [
    {
     "name": "stderr",
     "output_type": "stream",
     "text": [
      "C:\\Users\\Ameya Pedgaonkar\\AppData\\Local\\Temp\\ipykernel_22184\\3250322991.py:2: DataConversionWarning: A column-vector y was passed when a 1d array was expected. Please change the shape of y to (n_samples,), for example using ravel().\n",
      "  model4.fit(x_train, y_train)\n"
     ]
    }
   ],
   "source": [
    "model4 = RandomForestClassifier(n_estimators=1000, random_state=0)\n",
    "model4.fit(x_train, y_train)\n",
    "file = './Models/rf_classifier.sav'\n",
    "with open(file, 'wb') as f:\n",
    "    pickle.dump(model4, f)"
   ]
  },
  {
   "cell_type": "code",
   "execution_count": 27,
   "metadata": {},
   "outputs": [],
   "source": [
    "flatdata=x_train\n",
    "target=y_train"
   ]
  },
  {
   "cell_type": "code",
   "execution_count": 28,
   "metadata": {},
   "outputs": [],
   "source": [
    "#Splitting the data into training and testing \n",
    "# holdout is suitable in this case(as cross validation technique / for classification of models)\n",
    "# it splits between training and testing model(train_test_split)\n",
    "from sklearn.model_selection import train_test_split\n",
    "x_train,x_test,y_train,y_test=train_test_split(flatdata,target,test_size=0.25,random_state=0)#test_size=0.25 means we use 25% of data for testing and rest for training"
   ]
  },
  {
   "cell_type": "markdown",
   "metadata": {},
   "source": [
    "KNN Prediction"
   ]
  },
  {
   "cell_type": "code",
   "execution_count": 24,
   "metadata": {},
   "outputs": [
    {
     "data": {
      "text/plain": [
       "KNeighborsClassifier(n_neighbors=20)"
      ]
     },
     "execution_count": 24,
     "metadata": {},
     "output_type": "execute_result"
    }
   ],
   "source": [
    "# model = KNeighborsClassifier(n_neighbors=20)\n",
    "# model.fit(x_train, y_train)\n",
    "# pickle.dump(knn_classifier, open('models/knn_classifier.csv', 'wb'))"
   ]
  },
  {
   "cell_type": "code",
   "execution_count": 76,
   "metadata": {},
   "outputs": [
    {
     "data": {
      "text/plain": [
       "array(['Management', 'Data Engineer', 'Management', 'ML engineer',\n",
       "       'Marketing', 'Developer', 'Security', 'Security', 'Developer',\n",
       "       'ML engineer', 'Data Analysis', 'Content Writer', 'Content Writer',\n",
       "       'Security', 'Data Analysis', 'Marketing', 'Computer Analyst',\n",
       "       'Management', 'Content Writer', 'ML engineer', 'Content Writer',\n",
       "       'Security', 'Developer', 'Content Writer', 'Data Analysis',\n",
       "       'Management', 'Data Analysis', 'ML engineer', 'Developer',\n",
       "       'Developer', 'Developer', 'Developer', 'Data Engineer',\n",
       "       'Content Writer', 'Security', 'Management', 'ML engineer',\n",
       "       'Developer', 'Developer', 'Developer', 'ML engineer',\n",
       "       'ML engineer', 'Management', 'Content Writer', 'Management',\n",
       "       'Content Writer', 'Content Writer', 'Data Analysis', 'Security',\n",
       "       'Developer', 'Computer Analyst', 'ML engineer', 'Data Analysis',\n",
       "       'Developer', 'Data Engineer', 'Data Engineer', 'Content Writer',\n",
       "       'Management', 'Computer Analyst', 'Marketing', 'Content Writer',\n",
       "       'Content Writer', 'ML engineer', 'Computer Analyst', 'Marketing',\n",
       "       'Management', 'Developer', 'Developer', 'Marketing', 'Marketing',\n",
       "       'ML engineer', 'Content Writer', 'Developer', 'Developer',\n",
       "       'Developer', 'Developer', 'Data Engineer', 'Content Writer',\n",
       "       'Marketing', 'ML engineer', 'Developer', 'Data Engineer',\n",
       "       'Developer', 'Developer', 'Data Analysis', 'Developer',\n",
       "       'Computer Analyst', 'Developer', 'Computer Analyst', 'Management',\n",
       "       'Content Writer', 'Management', 'Developer', 'Data Analysis',\n",
       "       'Management', 'Computer Analyst', 'Developer', 'Content Writer',\n",
       "       'Developer', 'Content Writer', 'Marketing', 'Developer',\n",
       "       'Data Analysis', 'Content Writer', 'Developer', 'Content Writer',\n",
       "       'ML engineer', 'Data Analysis', 'Computer Analyst', 'Developer',\n",
       "       'Content Writer', 'Management', 'ML engineer', 'Content Writer',\n",
       "       'Developer', 'Developer', 'Computer Analyst', 'Data Analysis',\n",
       "       'Computer Analyst', 'Developer', 'Content Writer',\n",
       "       'Computer Analyst', 'Marketing', 'Marketing', 'Developer',\n",
       "       'Security', 'Content Writer', 'Security', 'Marketing'],\n",
       "      dtype=object)"
      ]
     },
     "execution_count": 76,
     "metadata": {},
     "output_type": "execute_result"
    }
   ],
   "source": [
    "# y_pred = model.predict(x_test)\n",
    "# y_pred # predicted value"
   ]
  },
  {
   "cell_type": "markdown",
   "metadata": {},
   "source": [
    "Random forest prediction"
   ]
  },
  {
   "cell_type": "code",
   "execution_count": 29,
   "metadata": {},
   "outputs": [
    {
     "name": "stderr",
     "output_type": "stream",
     "text": [
      "C:\\Users\\Ameya Pedgaonkar\\AppData\\Local\\Temp\\ipykernel_22184\\2809353240.py:2: DataConversionWarning: A column-vector y was passed when a 1d array was expected. Please change the shape of y to (n_samples,), for example using ravel().\n",
      "  model1.fit(x_train, y_train)\n"
     ]
    },
    {
     "data": {
      "text/plain": [
       "RandomForestClassifier(n_estimators=1000, random_state=0)"
      ]
     },
     "execution_count": 29,
     "metadata": {},
     "output_type": "execute_result"
    }
   ],
   "source": [
    "model1 = RandomForestClassifier(n_estimators=1000, random_state=0)\n",
    "model1.fit(x_train, y_train)"
   ]
  },
  {
   "cell_type": "code",
   "execution_count": 30,
   "metadata": {},
   "outputs": [
    {
     "data": {
      "text/plain": [
       "array(['Content Writer', 'Computer Analyst', 'Management', 'ML engineer',\n",
       "       'Marketing', 'Developer', 'Marketing', 'Marketing', 'Developer',\n",
       "       'Developer', 'Developer', 'Developer', 'Data Analysis',\n",
       "       'Content Writer', 'Marketing', 'Content Writer', 'Management',\n",
       "       'Management', 'Developer', 'Developer', 'Developer', 'Developer',\n",
       "       'ML engineer', 'Computer Analyst', 'Developer', 'Marketing',\n",
       "       'Developer', 'Developer', 'Developer', 'Marketing',\n",
       "       'Data Engineer', 'Marketing', 'Security', 'Developer', 'Security',\n",
       "       'Developer', 'Management', 'Developer', 'Developer',\n",
       "       'Network Engineer', 'Data Analysis', 'Marketing', 'ML engineer',\n",
       "       'Data Engineer', 'Data Analysis', 'Marketing', 'ML engineer',\n",
       "       'Computer Analyst', 'Developer', 'Developer', 'ML engineer',\n",
       "       'Marketing', 'Computer Analyst', 'Data Analysis', 'ML engineer',\n",
       "       'Network Engineer', 'Marketing', 'Marketing', 'Data Engineer',\n",
       "       'Computer Analyst', 'Computer Analyst', 'Developer',\n",
       "       'Computer Analyst', 'Data Analysis', 'Management', 'ML engineer',\n",
       "       'Content Writer', 'Developer', 'Developer', 'Developer',\n",
       "       'ML engineer', 'ML engineer', 'Developer', 'ML engineer',\n",
       "       'Marketing', 'Data Engineer', 'ML engineer', 'Developer',\n",
       "       'Data Analysis', 'Developer', 'ML engineer', 'Management',\n",
       "       'Developer', 'Data Engineer', 'Developer', 'Data Analysis',\n",
       "       'ML engineer', 'Developer', 'Marketing', 'Data Analysis',\n",
       "       'Developer', 'Data Engineer', 'Developer', 'Security',\n",
       "       'Network Engineer', 'Management', 'Developer'], dtype=object)"
      ]
     },
     "execution_count": 30,
     "metadata": {},
     "output_type": "execute_result"
    }
   ],
   "source": [
    "y_pred1 = model1.predict(x_test)\n",
    "y_pred1 # predicted value"
   ]
  },
  {
   "cell_type": "code",
   "execution_count": 31,
   "metadata": {},
   "outputs": [
    {
     "data": {
      "text/html": [
       "<div>\n",
       "<style scoped>\n",
       "    .dataframe tbody tr th:only-of-type {\n",
       "        vertical-align: middle;\n",
       "    }\n",
       "\n",
       "    .dataframe tbody tr th {\n",
       "        vertical-align: top;\n",
       "    }\n",
       "\n",
       "    .dataframe thead th {\n",
       "        text-align: right;\n",
       "    }\n",
       "</style>\n",
       "<table border=\"1\" class=\"dataframe\">\n",
       "  <thead>\n",
       "    <tr style=\"text-align: right;\">\n",
       "      <th></th>\n",
       "      <th>Role</th>\n",
       "    </tr>\n",
       "  </thead>\n",
       "  <tbody>\n",
       "    <tr>\n",
       "      <th>51</th>\n",
       "      <td>Content Writer</td>\n",
       "    </tr>\n",
       "    <tr>\n",
       "      <th>34</th>\n",
       "      <td>Computer Analyst</td>\n",
       "    </tr>\n",
       "    <tr>\n",
       "      <th>321</th>\n",
       "      <td>Management</td>\n",
       "    </tr>\n",
       "    <tr>\n",
       "      <th>435</th>\n",
       "      <td>ML engineer</td>\n",
       "    </tr>\n",
       "    <tr>\n",
       "      <th>397</th>\n",
       "      <td>Marketing</td>\n",
       "    </tr>\n",
       "    <tr>\n",
       "      <th>...</th>\n",
       "      <td>...</td>\n",
       "    </tr>\n",
       "    <tr>\n",
       "      <th>244</th>\n",
       "      <td>Developer</td>\n",
       "    </tr>\n",
       "    <tr>\n",
       "      <th>503</th>\n",
       "      <td>Security</td>\n",
       "    </tr>\n",
       "    <tr>\n",
       "      <th>197</th>\n",
       "      <td>Developer</td>\n",
       "    </tr>\n",
       "    <tr>\n",
       "      <th>319</th>\n",
       "      <td>Management</td>\n",
       "    </tr>\n",
       "    <tr>\n",
       "      <th>259</th>\n",
       "      <td>Developer</td>\n",
       "    </tr>\n",
       "  </tbody>\n",
       "</table>\n",
       "<p>97 rows × 1 columns</p>\n",
       "</div>"
      ],
      "text/plain": [
       "                 Role\n",
       "51     Content Writer\n",
       "34   Computer Analyst\n",
       "321        Management\n",
       "435       ML engineer\n",
       "397         Marketing\n",
       "..                ...\n",
       "244         Developer\n",
       "503          Security\n",
       "197         Developer\n",
       "319        Management\n",
       "259         Developer\n",
       "\n",
       "[97 rows x 1 columns]"
      ]
     },
     "execution_count": 31,
     "metadata": {},
     "output_type": "execute_result"
    }
   ],
   "source": [
    "y_test#actual value"
   ]
  },
  {
   "cell_type": "code",
   "execution_count": 15,
   "metadata": {},
   "outputs": [],
   "source": [
    "# from sklearn.metrics import accuracy_score,confusion_matrix\n",
    "# confusion_matrix(y_pred,y_test)"
   ]
  },
  {
   "cell_type": "code",
   "execution_count": 32,
   "metadata": {},
   "outputs": [
    {
     "data": {
      "text/plain": [
       "array([[ 5,  0,  0,  0,  0,  0,  0,  1,  0,  1],\n",
       "       [ 0,  4,  0,  0,  0,  0,  0,  0,  0,  0],\n",
       "       [ 0,  0,  8,  0,  0,  0,  0,  0,  0,  0],\n",
       "       [ 0,  0,  0,  4,  1,  0,  1,  0,  0,  0],\n",
       "       [ 0,  2,  0,  0, 30,  0,  0,  0,  0,  0],\n",
       "       [ 1,  0,  0,  0,  0, 10,  0,  0,  2,  0],\n",
       "       [ 0,  1,  0,  0,  0,  0,  5,  1,  0,  0],\n",
       "       [ 1,  0,  0,  0,  0,  0,  0, 12,  1,  0],\n",
       "       [ 0,  0,  0,  0,  1,  0,  0,  0,  2,  0],\n",
       "       [ 0,  1,  0,  0,  0,  0,  0,  0,  0,  2]], dtype=int64)"
      ]
     },
     "execution_count": 32,
     "metadata": {},
     "output_type": "execute_result"
    }
   ],
   "source": [
    "from sklearn.metrics import accuracy_score,confusion_matrix\n",
    "confusion_matrix(y_pred1,y_test)"
   ]
  },
  {
   "cell_type": "code",
   "execution_count": 28,
   "metadata": {},
   "outputs": [
    {
     "data": {
      "text/plain": [
       "0.813953488372093"
      ]
     },
     "execution_count": 28,
     "metadata": {},
     "output_type": "execute_result"
    }
   ],
   "source": [
    "# accuracy_score(y_pred,y_test)"
   ]
  },
  {
   "cell_type": "markdown",
   "metadata": {},
   "source": [
    "Random Forest Accuracy Score"
   ]
  },
  {
   "cell_type": "code",
   "execution_count": 33,
   "metadata": {},
   "outputs": [
    {
     "data": {
      "text/plain": [
       "0.8758620689655172"
      ]
     },
     "execution_count": 33,
     "metadata": {},
     "output_type": "execute_result"
    }
   ],
   "source": [
    "#Accuracy Score of K Nearest Neighbour\n",
    "model.score(x_train,y_train)"
   ]
  },
  {
   "cell_type": "code",
   "execution_count": 34,
   "metadata": {},
   "outputs": [
    {
     "data": {
      "text/plain": [
       "0.7938144329896907"
      ]
     },
     "execution_count": 34,
     "metadata": {},
     "output_type": "execute_result"
    }
   ],
   "source": [
    "model.score(x_test,y_test)"
   ]
  },
  {
   "cell_type": "code",
   "execution_count": 35,
   "metadata": {},
   "outputs": [
    {
     "data": {
      "text/plain": [
       "0.9517241379310345"
      ]
     },
     "execution_count": 35,
     "metadata": {},
     "output_type": "execute_result"
    }
   ],
   "source": [
    "model1.score(x_train,y_train) #dt"
   ]
  },
  {
   "cell_type": "code",
   "execution_count": 37,
   "metadata": {},
   "outputs": [
    {
     "data": {
      "text/plain": [
       "0.845360824742268"
      ]
     },
     "execution_count": 37,
     "metadata": {},
     "output_type": "execute_result"
    }
   ],
   "source": [
    "#Accuracy Score of Random Forest Classifier\n",
    "model1.score(x_test,y_test)"
   ]
  },
  {
   "cell_type": "code",
   "execution_count": 38,
   "metadata": {},
   "outputs": [
    {
     "data": {
      "text/plain": [
       "0.906896551724138"
      ]
     },
     "execution_count": 38,
     "metadata": {},
     "output_type": "execute_result"
    }
   ],
   "source": [
    "model2.score(x_train,y_train) #svc"
   ]
  },
  {
   "cell_type": "code",
   "execution_count": 39,
   "metadata": {},
   "outputs": [
    {
     "data": {
      "text/plain": [
       "0.8556701030927835"
      ]
     },
     "execution_count": 39,
     "metadata": {},
     "output_type": "execute_result"
    }
   ],
   "source": [
    "#Accuracy Score of Random Forest Classifier\n",
    "model2.score(x_test,y_test) "
   ]
  },
  {
   "cell_type": "code",
   "execution_count": 40,
   "metadata": {},
   "outputs": [
    {
     "data": {
      "text/plain": [
       "0.906896551724138"
      ]
     },
     "execution_count": 40,
     "metadata": {},
     "output_type": "execute_result"
    }
   ],
   "source": [
    "model3.score(x_train,y_train) #lg"
   ]
  },
  {
   "cell_type": "code",
   "execution_count": 41,
   "metadata": {},
   "outputs": [
    {
     "data": {
      "text/plain": [
       "0.845360824742268"
      ]
     },
     "execution_count": 41,
     "metadata": {},
     "output_type": "execute_result"
    }
   ],
   "source": [
    "#Accuracy Score of Logistic Regression\n",
    "model3.score(x_test,y_test)"
   ]
  },
  {
   "cell_type": "code",
   "execution_count": 42,
   "metadata": {},
   "outputs": [
    {
     "data": {
      "text/plain": [
       "0.9448275862068966"
      ]
     },
     "execution_count": 42,
     "metadata": {},
     "output_type": "execute_result"
    }
   ],
   "source": [
    "model4.score(x_train,y_train) #rf"
   ]
  },
  {
   "cell_type": "code",
   "execution_count": 43,
   "metadata": {},
   "outputs": [
    {
     "data": {
      "text/plain": [
       "0.9381443298969072"
      ]
     },
     "execution_count": 43,
     "metadata": {},
     "output_type": "execute_result"
    }
   ],
   "source": [
    "#Accuracy Score of Decision Tree Classifier\n",
    "model4.score(x_test,y_test)"
   ]
  },
  {
   "cell_type": "code",
   "execution_count": null,
   "metadata": {},
   "outputs": [],
   "source": []
  }
 ],
 "metadata": {
  "kernelspec": {
   "display_name": "Python 3 (ipykernel)",
   "language": "python",
   "name": "python3"
  },
  "language_info": {
   "codemirror_mode": {
    "name": "ipython",
    "version": 3
   },
   "file_extension": ".py",
   "mimetype": "text/x-python",
   "name": "python",
   "nbconvert_exporter": "python",
   "pygments_lexer": "ipython3",
   "version": "3.10.2"
  },
  "vscode": {
   "interpreter": {
    "hash": "ae1ddcff7fb3589e56c1735bd04bc544f28a9960cac663cd0016f5d7384b912c"
   }
  }
 },
 "nbformat": 4,
 "nbformat_minor": 4
}
